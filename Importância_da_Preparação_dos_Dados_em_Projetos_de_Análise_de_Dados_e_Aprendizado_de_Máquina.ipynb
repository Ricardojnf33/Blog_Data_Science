{
  "nbformat": 4,
  "nbformat_minor": 0,
  "metadata": {
    "colab": {
      "provenance": [],
      "machine_shape": "hm",
      "authorship_tag": "ABX9TyNqBUfbzEIa2uzNuyiV4bpA",
      "include_colab_link": true
    },
    "kernelspec": {
      "name": "python3",
      "display_name": "Python 3"
    },
    "language_info": {
      "name": "python"
    }
  },
  "cells": [
    {
      "cell_type": "markdown",
      "metadata": {
        "id": "view-in-github",
        "colab_type": "text"
      },
      "source": [
        "<a href=\"https://colab.research.google.com/github/Ricardojnf33/Blog_Data_Science/blob/main/Import%C3%A2ncia_da_Prepara%C3%A7%C3%A3o_dos_Dados_em_Projetos_de_An%C3%A1lise_de_Dados_e_Aprendizado_de_M%C3%A1quina.ipynb\" target=\"_parent\"><img src=\"https://colab.research.google.com/assets/colab-badge.svg\" alt=\"Open In Colab\"/></a>"
      ]
    },
    {
      "cell_type": "markdown",
      "source": [
        "# Importância da Preparação dos Dados em Projetos de Análise de Dados e Aprendizado de Máquina\n",
        "## Preparação dos Dados"
      ],
      "metadata": {
        "id": "Hhjz8G0oP3zL"
      }
    },
    {
      "cell_type": "markdown",
      "source": [
        "#Importação de bibliotecas:\n",
        "Importamos as bibliotecas necessárias, incluindo pandas para manipulação de dados, numpy para operações numéricas, e do sklearn.preprocessing importamos StandardScaler, LabelEncoder e MinMaxScaler para o pré-processamento dos dados."
      ],
      "metadata": {
        "id": "XVii7ZuOTiYO"
      }
    },
    {
      "cell_type": "code",
      "source": [
        "import pandas as pd\n",
        "import numpy as np\n",
        "from sklearn.preprocessing import StandardScaler, LabelEncoder, MinMaxScaler\n",
        "\n",
        "# Importação das bibliotecas necessárias para o heatmap\n",
        "import seaborn as sns\n",
        "import matplotlib.pyplot as plt"
      ],
      "metadata": {
        "id": "x6h3royQkHD8"
      },
      "execution_count": 1,
      "outputs": []
    },
    {
      "cell_type": "markdown",
      "source": [
        "#Criação do DataFrame de exemplo:\n",
        "Criamos um DataFrame chamado 'df' com algumas colunas: 'ID', 'Nome', 'Idade', 'Salário' e 'Cargo'. Esse DataFrame é preenchido com alguns valores, incluindo alguns valores nulos (None) e uma categoria ausente (None) na coluna 'Cargo'."
      ],
      "metadata": {
        "id": "kiW4mqxQTjYS"
      }
    },
    {
      "cell_type": "code",
      "source": [
        "# Criando um DataFrame de exemplo\n",
        "dados = {\n",
        "    'ID': [1, 2, 3, 4, 5, 6, 7, 8],\n",
        "    'Nome': ['João', 'Maria', 'José', 'Ana', 'Pedro', 'Eva', 'Fernanda', 'Carlos'],\n",
        "    'Idade': [25, 30, None, 22, 28, 35, 27, 40],\n",
        "    'Salário': [3500, 4000, 2800, 3200, None, 4200, 3800, 5000],\n",
        "    'Cargo': ['Analista', 'Gerente', 'Analista', 'Estagiário', 'Gerente', None, 'Analista', 'Diretor']\n",
        "}\n",
        "\n",
        "df = pd.DataFrame(dados)\n",
        "print(df)"
      ],
      "metadata": {
        "colab": {
          "base_uri": "https://localhost:8080/"
        },
        "id": "vvsX7L-dTgzM",
        "outputId": "b0ea3f9e-80bf-4559-d1f6-6be2e030a99f"
      },
      "execution_count": 2,
      "outputs": [
        {
          "output_type": "stream",
          "name": "stdout",
          "text": [
            "   ID      Nome  Idade  Salário       Cargo\n",
            "0   1      João   25.0   3500.0    Analista\n",
            "1   2     Maria   30.0   4000.0     Gerente\n",
            "2   3      José    NaN   2800.0    Analista\n",
            "3   4       Ana   22.0   3200.0  Estagiário\n",
            "4   5     Pedro   28.0      NaN     Gerente\n",
            "5   6       Eva   35.0   4200.0        None\n",
            "6   7  Fernanda   27.0   3800.0    Analista\n",
            "7   8    Carlos   40.0   5000.0     Diretor\n"
          ]
        }
      ]
    },
    {
      "cell_type": "markdown",
      "source": [
        "#Lidando com valores ausentes:\n",
        "Utilizamos o método dropna() para remover as linhas que possuem valores nulos em qualquer coluna. O resultado é armazenado no DataFrame 'df_limpo', que é redefinido com um novo índice. Em seguida, imputamos os valores ausentes na coluna 'Salário', preenchendo-os com a média dos salários não nulos."
      ],
      "metadata": {
        "id": "OMNHLV7ZTkLb"
      }
    },
    {
      "cell_type": "code",
      "source": [
        "# Lidando com valores ausentes\n",
        "df_limpo = df.dropna().reset_index(drop=True)  # Removendo as linhas com valores ausentes\n",
        "print(\"\\nDataFrame após remoção de linhas com valores ausentes:\")\n",
        "print(df_limpo)\n"
      ],
      "metadata": {
        "colab": {
          "base_uri": "https://localhost:8080/"
        },
        "id": "bOjOc2VXTgwG",
        "outputId": "e649a8ed-56af-4ee9-e516-c5c8aa9cbfac"
      },
      "execution_count": 3,
      "outputs": [
        {
          "output_type": "stream",
          "name": "stdout",
          "text": [
            "\n",
            "DataFrame após remoção de linhas com valores ausentes:\n",
            "   ID      Nome  Idade  Salário       Cargo\n",
            "0   1      João   25.0   3500.0    Analista\n",
            "1   2     Maria   30.0   4000.0     Gerente\n",
            "2   4       Ana   22.0   3200.0  Estagiário\n",
            "3   7  Fernanda   27.0   3800.0    Analista\n",
            "4   8    Carlos   40.0   5000.0     Diretor\n"
          ]
        }
      ]
    },
    {
      "cell_type": "code",
      "source": [
        "# Corrigindo erros ou imputando valores\n",
        "valor_medio_salario = df['Salário'].mean()\n",
        "df['Salário'].fillna(valor_medio_salario, inplace=True)  # Preenchendo valores ausentes com a média dos salários\n",
        "print(\"\\nDataFrame após imputação de valores ausentes no salário:\")\n",
        "print(df)"
      ],
      "metadata": {
        "colab": {
          "base_uri": "https://localhost:8080/"
        },
        "id": "W7BULbaNTgtP",
        "outputId": "84357b36-fe97-418a-f3b9-8b484f443e07"
      },
      "execution_count": 4,
      "outputs": [
        {
          "output_type": "stream",
          "name": "stdout",
          "text": [
            "\n",
            "DataFrame após imputação de valores ausentes no salário:\n",
            "   ID      Nome  Idade      Salário       Cargo\n",
            "0   1      João   25.0  3500.000000    Analista\n",
            "1   2     Maria   30.0  4000.000000     Gerente\n",
            "2   3      José    NaN  2800.000000    Analista\n",
            "3   4       Ana   22.0  3200.000000  Estagiário\n",
            "4   5     Pedro   28.0  3785.714286     Gerente\n",
            "5   6       Eva   35.0  4200.000000        None\n",
            "6   7  Fernanda   27.0  3800.000000    Analista\n",
            "7   8    Carlos   40.0  5000.000000     Diretor\n"
          ]
        }
      ]
    },
    {
      "cell_type": "markdown",
      "source": [
        "#Remoção de duplicatas:\n",
        "Utilizamos o método drop_duplicates() para remover linhas duplicadas do DataFrame 'df'. O resultado é armazenado no DataFrame 'df_sem_duplicatas', que também é redefinido com um novo índice."
      ],
      "metadata": {
        "id": "8YWU4cAKTlB9"
      }
    },
    {
      "cell_type": "code",
      "source": [
        "# Removendo duplicatas\n",
        "df_sem_duplicatas = df.drop_duplicates().reset_index(drop=True)\n",
        "print(\"\\nDataFrame após remoção de duplicatas:\")\n",
        "print(df_sem_duplicatas)"
      ],
      "metadata": {
        "colab": {
          "base_uri": "https://localhost:8080/"
        },
        "id": "9O03TaB_Tgqn",
        "outputId": "d87ca613-ab97-4df5-f5ec-b3b8863f4e19"
      },
      "execution_count": 5,
      "outputs": [
        {
          "output_type": "stream",
          "name": "stdout",
          "text": [
            "\n",
            "DataFrame após remoção de duplicatas:\n",
            "   ID      Nome  Idade      Salário       Cargo\n",
            "0   1      João   25.0  3500.000000    Analista\n",
            "1   2     Maria   30.0  4000.000000     Gerente\n",
            "2   3      José    NaN  2800.000000    Analista\n",
            "3   4       Ana   22.0  3200.000000  Estagiário\n",
            "4   5     Pedro   28.0  3785.714286     Gerente\n",
            "5   6       Eva   35.0  4200.000000        None\n",
            "6   7  Fernanda   27.0  3800.000000    Analista\n",
            "7   8    Carlos   40.0  5000.000000     Diretor\n"
          ]
        }
      ]
    },
    {
      "cell_type": "markdown",
      "source": [
        "#Escalonamento de Variáveis Numéricas:\n",
        "Utilizamos o StandardScaler para padronizar a coluna 'Salário' do DataFrame 'df_limpo', transformando-a para ter média zero e desvio padrão igual a 1. A coluna escalonada é adicionada ao DataFrame como 'Salário_Escalonado'."
      ],
      "metadata": {
        "id": "tG9I9e1aTl4Z"
      }
    },
    {
      "cell_type": "code",
      "source": [
        "# Escalonamento de Variáveis Numéricas\n",
        "scaler = StandardScaler()\n",
        "df_limpo['Salário_Escalonado'] = scaler.fit_transform(df_limpo[['Salário']])\n",
        "print(\"\\nDataFrame com a coluna 'Salário' escalonada:\")\n",
        "print(df_limpo[['ID', 'Nome', 'Salário', 'Salário_Escalonado']])"
      ],
      "metadata": {
        "colab": {
          "base_uri": "https://localhost:8080/"
        },
        "id": "DM-1yf_ETgn2",
        "outputId": "0abdeeda-663b-4723-fd15-aa6306efd083"
      },
      "execution_count": 6,
      "outputs": [
        {
          "output_type": "stream",
          "name": "stdout",
          "text": [
            "\n",
            "DataFrame com a coluna 'Salário' escalonada:\n",
            "   ID      Nome  Salário  Salário_Escalonado\n",
            "0   1      João   3500.0           -0.652328\n",
            "1   2     Maria   4000.0            0.163082\n",
            "2   4       Ana   3200.0           -1.141574\n",
            "3   7  Fernanda   3800.0           -0.163082\n",
            "4   8    Carlos   5000.0            1.793902\n"
          ]
        }
      ]
    },
    {
      "cell_type": "markdown",
      "source": [
        "#Codificação de Variáveis Categóricas:\n",
        "Utilizamos o LabelEncoder para transformar a coluna 'Cargo' do DataFrame 'df_limpo' em valores numéricos codificados. Cada categoria única recebe um número inteiro correspondente na nova coluna 'Cargo_Codificado'."
      ],
      "metadata": {
        "id": "yYv4hbgBTnjE"
      }
    },
    {
      "cell_type": "code",
      "source": [
        "# Codificação de Variáveis Categóricas\n",
        "le = LabelEncoder()\n",
        "df_limpo['Cargo_Codificado'] = le.fit_transform(df_limpo['Cargo'])\n",
        "print(\"\\nDataFrame com a coluna 'Cargo' codificada:\")\n",
        "print(df_limpo[['ID', 'Nome', 'Cargo', 'Cargo_Codificado']])"
      ],
      "metadata": {
        "colab": {
          "base_uri": "https://localhost:8080/"
        },
        "id": "f89J92XMTgl1",
        "outputId": "5a09bbe9-bb0c-48b9-e655-d8f15ea7d426"
      },
      "execution_count": 7,
      "outputs": [
        {
          "output_type": "stream",
          "name": "stdout",
          "text": [
            "\n",
            "DataFrame com a coluna 'Cargo' codificada:\n",
            "   ID      Nome       Cargo  Cargo_Codificado\n",
            "0   1      João    Analista                 0\n",
            "1   2     Maria     Gerente                 3\n",
            "2   4       Ana  Estagiário                 2\n",
            "3   7  Fernanda    Analista                 0\n",
            "4   8    Carlos     Diretor                 1\n"
          ]
        }
      ]
    },
    {
      "cell_type": "markdown",
      "source": [
        "#Criação de Novas Variáveis:\n",
        "Criamos uma nova coluna 'Score' no DataFrame 'df_limpo', que representa o resultado da divisão do 'Salário' pela 'Idade'. Essa coluna representa uma nova métrica calculada a partir das informações existentes no DataFrame."
      ],
      "metadata": {
        "id": "okf0tbNvT8Mo"
      }
    },
    {
      "cell_type": "code",
      "source": [
        "# Criação de Novas Variáveis\n",
        "df_limpo['Score'] = df_limpo['Salário'] / df_limpo['Idade']\n",
        "print(\"\\nDataFrame com a nova coluna 'Score':\")\n",
        "print(df_limpo[['ID', 'Nome', 'Salário', 'Idade', 'Score']])"
      ],
      "metadata": {
        "colab": {
          "base_uri": "https://localhost:8080/"
        },
        "id": "MMnjhogVTgj4",
        "outputId": "9f62c1ee-33f9-48f2-96bc-bbb9ba283db3"
      },
      "execution_count": 8,
      "outputs": [
        {
          "output_type": "stream",
          "name": "stdout",
          "text": [
            "\n",
            "DataFrame com a nova coluna 'Score':\n",
            "   ID      Nome  Salário  Idade       Score\n",
            "0   1      João   3500.0   25.0  140.000000\n",
            "1   2     Maria   4000.0   30.0  133.333333\n",
            "2   4       Ana   3200.0   22.0  145.454545\n",
            "3   7  Fernanda   3800.0   27.0  140.740741\n",
            "4   8    Carlos   5000.0   40.0  125.000000\n"
          ]
        }
      ]
    },
    {
      "cell_type": "markdown",
      "source": [
        "#Normalização de Variáveis:\n",
        "Utilizamos o MinMaxScaler para normalizar a coluna 'Idade' do DataFrame 'df_limpo', transformando os valores para o intervalo [0, 1]. A coluna normalizada é adicionada ao DataFrame como 'Idade_Normalizada'."
      ],
      "metadata": {
        "id": "wFzT6DPQT9Zq"
      }
    },
    {
      "cell_type": "code",
      "source": [
        "# Normalização de Variáveis\n",
        "scaler = MinMaxScaler()\n",
        "df_limpo['Idade_Normalizada'] = scaler.fit_transform(df_limpo[['Idade']])\n",
        "print(\"\\nDataFrame com a coluna 'Idade' normalizada:\")\n",
        "print(df_limpo[['ID', 'Nome', 'Idade', 'Idade_Normalizada']])"
      ],
      "metadata": {
        "colab": {
          "base_uri": "https://localhost:8080/"
        },
        "id": "ta6BjdnITghM",
        "outputId": "880b6e1e-0de1-4170-875d-7947ce019b44"
      },
      "execution_count": 9,
      "outputs": [
        {
          "output_type": "stream",
          "name": "stdout",
          "text": [
            "\n",
            "DataFrame com a coluna 'Idade' normalizada:\n",
            "   ID      Nome  Idade  Idade_Normalizada\n",
            "0   1      João   25.0           0.166667\n",
            "1   2     Maria   30.0           0.444444\n",
            "2   4       Ana   22.0           0.000000\n",
            "3   7  Fernanda   27.0           0.277778\n",
            "4   8    Carlos   40.0           1.000000\n"
          ]
        }
      ]
    },
    {
      "cell_type": "markdown",
      "source": [
        "#Transformação Logarítmica:\n",
        "Criamos uma nova coluna 'Salário_Log' no DataFrame 'df_limpo', que contém os valores de 'Salário' transformados usando logaritmo natural."
      ],
      "metadata": {
        "id": "kPsbBRtyT85A"
      }
    },
    {
      "cell_type": "code",
      "source": [
        "# Transformação Logarítmica\n",
        "df_limpo['Salário_Log'] = np.log(df_limpo['Salário'])\n",
        "print(\"\\nDataFrame com a coluna 'Salário' transformada usando logaritmo:\")\n",
        "print(df_limpo[['ID', 'Nome', 'Salário', 'Salário_Log']])"
      ],
      "metadata": {
        "colab": {
          "base_uri": "https://localhost:8080/"
        },
        "id": "Wp0Q_3Q7Tgel",
        "outputId": "8a63f914-d474-4fa3-b377-ad45a644e666"
      },
      "execution_count": 10,
      "outputs": [
        {
          "output_type": "stream",
          "name": "stdout",
          "text": [
            "\n",
            "DataFrame com a coluna 'Salário' transformada usando logaritmo:\n",
            "   ID      Nome  Salário  Salário_Log\n",
            "0   1      João   3500.0     8.160518\n",
            "1   2     Maria   4000.0     8.294050\n",
            "2   4       Ana   3200.0     8.070906\n",
            "3   7  Fernanda   3800.0     8.242756\n",
            "4   8    Carlos   5000.0     8.517193\n"
          ]
        }
      ]
    },
    {
      "cell_type": "markdown",
      "source": [
        "#Tratando Outliers:\n",
        "Calculamos o limite superior com base no terceiro quartil (quantile(0.75)) e tratamos os valores de 'Salário' acima desse limite, substituindo-os pelo limite superior. Essa etapa é importante para mitigar o impacto de valores extremos no modelo."
      ],
      "metadata": {
        "id": "YtMfjG9BUE9k"
      }
    },
    {
      "cell_type": "code",
      "source": [
        "# Tratando Outliers\n",
        "limite_superior = df_limpo['Salário'].quantile(0.75) + 1.5 * (df_limpo['Salário'].quantile(0.75) - df_limpo['Salário'].quantile(0.25))\n",
        "df_limpo['Salário_Truncado'] = np.where(df_limpo['Salário'] > limite_superior, limite_superior, df_limpo['Salário'])\n",
        "print(\"\\nDataFrame com a coluna 'Salário' tratada para outliers:\")\n",
        "print(df_limpo[['ID', 'Nome', 'Salário', 'Salário_Truncado']])\n"
      ],
      "metadata": {
        "colab": {
          "base_uri": "https://localhost:8080/"
        },
        "id": "DE_9xWbiTgbW",
        "outputId": "3d651c12-2239-40a8-9267-6d2dc30a74eb"
      },
      "execution_count": 11,
      "outputs": [
        {
          "output_type": "stream",
          "name": "stdout",
          "text": [
            "\n",
            "DataFrame com a coluna 'Salário' tratada para outliers:\n",
            "   ID      Nome  Salário  Salário_Truncado\n",
            "0   1      João   3500.0            3500.0\n",
            "1   2     Maria   4000.0            4000.0\n",
            "2   4       Ana   3200.0            3200.0\n",
            "3   7  Fernanda   3800.0            3800.0\n",
            "4   8    Carlos   5000.0            4750.0\n"
          ]
        }
      ]
    },
    {
      "cell_type": "markdown",
      "source": [
        "#Binning - Discretização de Variáveis Contínuas:\n",
        "Criamos uma nova coluna 'Categoria_Salário' no DataFrame 'df_limpo', que discretiza os valores de 'Salário' em quatro categorias: 'Baixo', 'Médio', 'Alto' e 'Muito Alto'."
      ],
      "metadata": {
        "id": "7zMObwUzUFcc"
      }
    },
    {
      "cell_type": "code",
      "source": [
        "# Binning - Discretização de Variáveis Contínuas\n",
        "bins = [0, 2500, 3500, 4500, np.inf]\n",
        "labels = ['Baixo', 'Médio', 'Alto', 'Muito Alto']\n",
        "df_limpo['Categoria_Salário'] = pd.cut(df_limpo['Salário'], bins=bins, labels=labels)\n",
        "print(\"\\nDataFrame com a coluna 'Salário' discretizada em categorias:\")\n",
        "print(df_limpo[['ID', 'Nome', 'Salário', 'Categoria_Salário']])"
      ],
      "metadata": {
        "colab": {
          "base_uri": "https://localhost:8080/"
        },
        "id": "OxXBF4ToTgY7",
        "outputId": "f6ed7da5-927f-40cd-a1c8-49ac736bc0ea"
      },
      "execution_count": 12,
      "outputs": [
        {
          "output_type": "stream",
          "name": "stdout",
          "text": [
            "\n",
            "DataFrame com a coluna 'Salário' discretizada em categorias:\n",
            "   ID      Nome  Salário Categoria_Salário\n",
            "0   1      João   3500.0             Médio\n",
            "1   2     Maria   4000.0              Alto\n",
            "2   4       Ana   3200.0             Médio\n",
            "3   7  Fernanda   3800.0              Alto\n",
            "4   8    Carlos   5000.0        Muito Alto\n"
          ]
        }
      ]
    },
    {
      "cell_type": "markdown",
      "source": [
        "#One-Hot Encoding para Variáveis Categóricas:\n",
        "Utilizamos o pd.get_dummies para codificar a coluna 'Cargo' do DataFrame 'df_limpo' em colunas separadas usando a técnica de One-Hot Encoding. Essa técnica transforma cada categoria única em uma nova coluna binária indicando a presença da categoria para cada registro."
      ],
      "metadata": {
        "id": "iwSoAZaHURTs"
      }
    },
    {
      "cell_type": "code",
      "source": [
        "df_onehot = pd.get_dummies(df_limpo, columns=['Cargo'])\n",
        "print(\"\\nDataFrame com as colunas de 'Cargo' codificadas com One-Hot Encoding:\")\n",
        "print(df_onehot)"
      ],
      "metadata": {
        "colab": {
          "base_uri": "https://localhost:8080/"
        },
        "id": "UqUqV-4OUKjo",
        "outputId": "d6c96eac-2e55-4a37-b93e-b0e9bac9fa55"
      },
      "execution_count": 13,
      "outputs": [
        {
          "output_type": "stream",
          "name": "stdout",
          "text": [
            "\n",
            "DataFrame com as colunas de 'Cargo' codificadas com One-Hot Encoding:\n",
            "   ID      Nome  Idade  Salário  Salário_Escalonado  Cargo_Codificado  \\\n",
            "0   1      João   25.0   3500.0           -0.652328                 0   \n",
            "1   2     Maria   30.0   4000.0            0.163082                 3   \n",
            "2   4       Ana   22.0   3200.0           -1.141574                 2   \n",
            "3   7  Fernanda   27.0   3800.0           -0.163082                 0   \n",
            "4   8    Carlos   40.0   5000.0            1.793902                 1   \n",
            "\n",
            "        Score  Idade_Normalizada  Salário_Log  Salário_Truncado  \\\n",
            "0  140.000000           0.166667     8.160518            3500.0   \n",
            "1  133.333333           0.444444     8.294050            4000.0   \n",
            "2  145.454545           0.000000     8.070906            3200.0   \n",
            "3  140.740741           0.277778     8.242756            3800.0   \n",
            "4  125.000000           1.000000     8.517193            4750.0   \n",
            "\n",
            "  Categoria_Salário  Cargo_Analista  Cargo_Diretor  Cargo_Estagiário  \\\n",
            "0             Médio               1              0                 0   \n",
            "1              Alto               0              0                 0   \n",
            "2             Médio               0              0                 1   \n",
            "3              Alto               1              0                 0   \n",
            "4        Muito Alto               0              1                 0   \n",
            "\n",
            "   Cargo_Gerente  \n",
            "0              0  \n",
            "1              1  \n",
            "2              0  \n",
            "3              0  \n",
            "4              0  \n"
          ]
        }
      ]
    },
    {
      "cell_type": "markdown",
      "source": [
        "#Lidando com Valores Nulos novamente:\n",
        "Imputamos os valores ausentes na coluna 'Idade' do DataFrame 'df_onehot', preenchendo-os com a média das idades presentes."
      ],
      "metadata": {
        "id": "RZ8_1fuuWdP-"
      }
    },
    {
      "cell_type": "code",
      "source": [
        "# Lidando com Valores Nulos novamente\n",
        "df_onehot['Idade'].fillna(df_onehot['Idade'].mean(), inplace=True)  # Preenchendo valores ausentes com a média das idades\n",
        "print(\"\\nDataFrame após imputação de valores ausentes na idade:\")\n",
        "print(df_onehot)"
      ],
      "metadata": {
        "colab": {
          "base_uri": "https://localhost:8080/"
        },
        "id": "F9tZy_7bUKgL",
        "outputId": "067a9213-1fb9-4097-977a-43632d49cd59"
      },
      "execution_count": 14,
      "outputs": [
        {
          "output_type": "stream",
          "name": "stdout",
          "text": [
            "\n",
            "DataFrame após imputação de valores ausentes na idade:\n",
            "   ID      Nome  Idade  Salário  Salário_Escalonado  Cargo_Codificado  \\\n",
            "0   1      João   25.0   3500.0           -0.652328                 0   \n",
            "1   2     Maria   30.0   4000.0            0.163082                 3   \n",
            "2   4       Ana   22.0   3200.0           -1.141574                 2   \n",
            "3   7  Fernanda   27.0   3800.0           -0.163082                 0   \n",
            "4   8    Carlos   40.0   5000.0            1.793902                 1   \n",
            "\n",
            "        Score  Idade_Normalizada  Salário_Log  Salário_Truncado  \\\n",
            "0  140.000000           0.166667     8.160518            3500.0   \n",
            "1  133.333333           0.444444     8.294050            4000.0   \n",
            "2  145.454545           0.000000     8.070906            3200.0   \n",
            "3  140.740741           0.277778     8.242756            3800.0   \n",
            "4  125.000000           1.000000     8.517193            4750.0   \n",
            "\n",
            "  Categoria_Salário  Cargo_Analista  Cargo_Diretor  Cargo_Estagiário  \\\n",
            "0             Médio               1              0                 0   \n",
            "1              Alto               0              0                 0   \n",
            "2             Médio               0              0                 1   \n",
            "3              Alto               1              0                 0   \n",
            "4        Muito Alto               0              1                 0   \n",
            "\n",
            "   Cargo_Gerente  \n",
            "0              0  \n",
            "1              1  \n",
            "2              0  \n",
            "3              0  \n",
            "4              0  \n"
          ]
        }
      ]
    },
    {
      "cell_type": "markdown",
      "source": [
        "#Verificando a Correlação entre as Variáveis:\n",
        "Calculamos a matriz de correlação entre todas as variáveis do DataFrame 'df_onehot'. Essa matriz mostra como as variáveis estão relacionadas entre si, sendo útil para identificar possíveis dependências e multicolinearidade."
      ],
      "metadata": {
        "id": "8vw3AMRRUMoY"
      }
    },
    {
      "cell_type": "code",
      "source": [
        "# Verificando a Correlação entre as Variáveis\n",
        "correlacao = df_onehot.corr()\n",
        "print(\"\\nMatriz de correlação entre as variáveis:\")\n",
        "print(correlacao)"
      ],
      "metadata": {
        "id": "A4a3daW9UKcZ"
      },
      "execution_count": null,
      "outputs": []
    },
    {
      "cell_type": "code",
      "source": [
        "# Verificando a Correlação entre as Variáveis\n",
        "correlacao = df_onehot.corr()\n",
        "\n",
        "# Criando o heatmap\n",
        "plt.figure(figsize=(10, 8))\n",
        "sns.heatmap(correlacao, annot=True, cmap='coolwarm', fmt='.2f', linewidths=0.5)\n",
        "plt.title('Matriz de Correlação entre as Variáveis')\n",
        "plt.show()\n"
      ],
      "metadata": {
        "colab": {
          "base_uri": "https://localhost:8080/",
          "height": 628
        },
        "id": "UmGm6aELjziC",
        "outputId": "bb969ff1-15ab-4bcb-a0fa-bfaf023914e1"
      },
      "execution_count": 16,
      "outputs": [
        {
          "output_type": "stream",
          "name": "stderr",
          "text": [
            "<ipython-input-16-bb07c1d02471>:2: FutureWarning: The default value of numeric_only in DataFrame.corr is deprecated. In a future version, it will default to False. Select only valid columns or specify the value of numeric_only to silence this warning.\n",
            "  correlacao = df_onehot.corr()\n"
          ]
        },
        {
          "output_type": "display_data",
          "data": {
            "text/plain": [
              "<Figure size 1000x800 with 2 Axes>"
            ],
            "image/png": "[encoded data removed]"
          },
          "metadata": {}
        }
      ]
    },
    {
      "cell_type": "code",
      "source": [
        "# Salvando o DataFrame Limpo em um arquivo CSV\n",
        "df_onehot.to_csv('dados_limpos.csv', index=False)"
      ],
      "metadata": {
        "id": "G4JMoMqcUKZu"
      },
      "execution_count": 32,
      "outputs": []
    },
    {
      "cell_type": "markdown",
      "source": [
        "# Integração dos dados\n",
        "A integração de dados é um processo fundamental na preparação dos dados para análise, que consiste em combinar informações provenientes de várias fontes em um único conjunto de dados coeso. Nesta seção, exploraremos os cinco melhores e mais utilizados processos de integração de dados, utilizando o ambiente Python no Google Colab e o DataFrame exemplo obtido após a limpeza de dados anterior.\n",
        "\n"
      ],
      "metadata": {
        "id": "DVl67-F8sCxM"
      }
    },
    {
      "cell_type": "markdown",
      "source": [
        "##Concatenação de DataFrames:\n",
        "A concatenação é uma das formas mais simples de integração de dados, onde combinamos DataFrames que possuem a mesma estrutura em relação às colunas. Utilizaremos a função pd.concat para unir os dados de dois DataFrames, adicionando novas linhas.\n",
        "\n"
      ],
      "metadata": {
        "id": "BPbEr0Mu1Ckq"
      }
    },
    {
      "cell_type": "code",
      "source": [
        "import pandas as pd\n",
        "\n",
        "# DataFrame de exemplo após a limpeza de dados\n",
        "df_limpo = pd.DataFrame({\n",
        "    'ID': [1, 2, 3],\n",
        "    'Nome': ['Ana', 'João', 'Maria'],\n",
        "    'Cargo': ['Analista', 'Gerente', 'Coordenador'],\n",
        "    'Salário': [3500, 5000, 4200]\n",
        "})\n",
        "\n",
        "# DataFrame com novos dados a serem integrados\n",
        "novos_dados = pd.DataFrame({\n",
        "    'ID': [4, 5],\n",
        "    'Nome': ['Pedro', 'Laura'],\n",
        "    'Cargo': ['Engenheiro', 'Assistente'],\n",
        "    'Salário': [3800, 2800]\n",
        "})\n",
        "\n",
        "# Concatenando os DataFrames\n",
        "df_integrado = pd.concat([df_limpo, novos_dados], ignore_index=True)\n",
        "\n",
        "print(\"\\nDataFrame integrado:\")\n",
        "print(df_integrado)\n"
      ],
      "metadata": {
        "colab": {
          "base_uri": "https://localhost:8080/"
        },
        "id": "mo2GI77fUKXG",
        "outputId": "d671f92f-3c61-4c92-c232-172d92b71d3f"
      },
      "execution_count": 19,
      "outputs": [
        {
          "output_type": "stream",
          "name": "stdout",
          "text": [
            "\n",
            "DataFrame integrado:\n",
            "   ID   Nome        Cargo  Salário\n",
            "0   1    Ana     Analista     3500\n",
            "1   2   João      Gerente     5000\n",
            "2   3  Maria  Coordenador     4200\n",
            "3   4  Pedro   Engenheiro     3800\n",
            "4   5  Laura   Assistente     2800\n"
          ]
        }
      ]
    },
    {
      "cell_type": "markdown",
      "source": [
        "# Merge (Junção) de DataFrames:\n",
        "O merge é usado quando queremos combinar DataFrames com base em colunas comuns (chaves). É semelhante a uma operação de junção de tabelas em SQL. Utilizaremos a função pd.merge para realizar a junção.\n",
        "\n"
      ],
      "metadata": {
        "id": "IM0y0zGtD9VT"
      }
    },
    {
      "cell_type": "code",
      "source": [
        "# DataFrame com informações adicionais para junção\n",
        "dados_adicionais = pd.DataFrame({\n",
        "    'ID': [2, 3, 6],\n",
        "    'Departamento': ['RH', 'Finanças', 'TI']\n",
        "})\n",
        "\n",
        "# Merge dos DataFrames com base na coluna 'ID'\n",
        "df_integrado = pd.merge(df_limpo, dados_adicionais, on='ID', how='left')\n",
        "\n",
        "print(\"\\nDataFrame integrado com informações adicionais:\")\n",
        "print(df_integrado)\n"
      ],
      "metadata": {
        "colab": {
          "base_uri": "https://localhost:8080/"
        },
        "id": "2mVvftTZUKUW",
        "outputId": "bf134b4e-d2e2-4cde-9d54-c4601b2e156d"
      },
      "execution_count": 20,
      "outputs": [
        {
          "output_type": "stream",
          "name": "stdout",
          "text": [
            "\n",
            "DataFrame integrado com informações adicionais:\n",
            "   ID   Nome        Cargo  Salário Departamento\n",
            "0   1    Ana     Analista     3500          NaN\n",
            "1   2   João      Gerente     5000           RH\n",
            "2   3  Maria  Coordenador     4200     Finanças\n"
          ]
        }
      ]
    },
    {
      "cell_type": "markdown",
      "source": [
        "# Append de Linhas:\n",
        "O append é semelhante à concatenação, mas é usado para adicionar linhas de um DataFrame a outro. Ele é útil quando temos um pequeno conjunto de dados que queremos adicionar ao DataFrame principal.\n",
        "\n"
      ],
      "metadata": {
        "id": "pmy8iRdOD5Ae"
      }
    },
    {
      "cell_type": "code",
      "source": [
        "# DataFrame com linhas a serem adicionadas\n",
        "novas_linhas = pd.DataFrame({\n",
        "    'ID': [6, 7],\n",
        "    'Nome': ['Carlos', 'Sofia'],\n",
        "    'Cargo': ['Estagiário', 'Analista Jr.'],\n",
        "    'Salário': [1800, 3200]\n",
        "})\n",
        "\n",
        "# Adicionando as novas linhas ao DataFrame principal\n",
        "df_integrado = df_limpo.append(novas_linhas, ignore_index=True)\n",
        "\n",
        "print(\"\\nDataFrame com linhas adicionadas:\")\n",
        "print(df_integrado)\n"
      ],
      "metadata": {
        "colab": {
          "base_uri": "https://localhost:8080/"
        },
        "id": "3UBi75O9UKRw",
        "outputId": "7c88d928-7b24-4740-d2b3-42d542dcbd0f"
      },
      "execution_count": 21,
      "outputs": [
        {
          "output_type": "stream",
          "name": "stdout",
          "text": [
            "\n",
            "DataFrame com linhas adicionadas:\n",
            "   ID    Nome         Cargo  Salário\n",
            "0   1     Ana      Analista     3500\n",
            "1   2    João       Gerente     5000\n",
            "2   3   Maria   Coordenador     4200\n",
            "3   6  Carlos    Estagiário     1800\n",
            "4   7   Sofia  Analista Jr.     3200\n"
          ]
        },
        {
          "output_type": "stream",
          "name": "stderr",
          "text": [
            "<ipython-input-21-cb10e54ad4c6>:10: FutureWarning: The frame.append method is deprecated and will be removed from pandas in a future version. Use pandas.concat instead.\n",
            "  df_integrado = df_limpo.append(novas_linhas, ignore_index=True)\n"
          ]
        }
      ]
    },
    {
      "cell_type": "markdown",
      "source": [
        "# Join de DataFrames:\n",
        "O join é uma forma de combinar DataFrames com base em seus índices. Utilizaremos a função df.join para realizar o join.\n",
        "\n"
      ],
      "metadata": {
        "id": "d4DiyAP4D1Sg"
      }
    },
    {
      "cell_type": "code",
      "source": [
        "# DataFrame com informações adicionais para join\n",
        "dados_adicionais = pd.DataFrame({\n",
        "    'Setor': ['Vendas', 'Produção', 'Marketing'],\n",
        "}, index=[1, 2, 3])\n",
        "\n",
        "# Join dos DataFrames com base no índice\n",
        "df_integrado = df_limpo.join(dados_adicionais, on='ID')\n",
        "\n",
        "print(\"\\nDataFrame com informações adicionais após o join:\")\n",
        "print(df_integrado)\n"
      ],
      "metadata": {
        "colab": {
          "base_uri": "https://localhost:8080/"
        },
        "id": "C2Ak2BInUKPL",
        "outputId": "978fead1-bbcf-44c7-8843-7cb6a6cfbdb1"
      },
      "execution_count": 22,
      "outputs": [
        {
          "output_type": "stream",
          "name": "stdout",
          "text": [
            "\n",
            "DataFrame com informações adicionais após o join:\n",
            "   ID   Nome        Cargo  Salário      Setor\n",
            "0   1    Ana     Analista     3500     Vendas\n",
            "1   2   João      Gerente     5000   Produção\n",
            "2   3  Maria  Coordenador     4200  Marketing\n"
          ]
        }
      ]
    },
    {
      "cell_type": "markdown",
      "source": [
        "# Pivot e Unpivot de Dados:\n",
        "Pivot e Unpivot são técnicas para transformar a estrutura dos dados, tornando-os mais adequados para análises específicas. Pivot transforma linhas em colunas, enquanto Unpivot faz o inverso.\n",
        "\n"
      ],
      "metadata": {
        "id": "8ZLEZJ9cDwoo"
      }
    },
    {
      "cell_type": "code",
      "source": [
        "import pandas as pd\n",
        "\n",
        "# DataFrame de exemplo após a limpeza de dados\n",
        "df_limpo = pd.DataFrame({\n",
        "    'ID': [1, 2, 3],\n",
        "    'Nome': ['Ana', 'João', 'Maria'],\n",
        "    'Cargo': ['Analista', 'Gerente', 'Coordenador'],\n",
        "    'Salário': [3500, 5000, 4200]\n",
        "})\n",
        "\n",
        "# Exemplo de Pivot (Transformação de linhas em colunas)\n",
        "df_pivot = df_limpo.pivot(index='ID', columns='Cargo', values='Salário')\n",
        "\n",
        "print(\"\\nDataFrame após a transformação Pivot:\")\n",
        "print(df_pivot)\n"
      ],
      "metadata": {
        "colab": {
          "base_uri": "https://localhost:8080/"
        },
        "id": "1l699agHUKM-",
        "outputId": "3f734030-e989-42ec-c770-cee1c696caba"
      },
      "execution_count": 24,
      "outputs": [
        {
          "output_type": "stream",
          "name": "stdout",
          "text": [
            "\n",
            "DataFrame após a transformação Pivot:\n",
            "Cargo  Analista  Coordenador  Gerente\n",
            "ID                                   \n",
            "1        3500.0          NaN      NaN\n",
            "2           NaN          NaN   5000.0\n",
            "3           NaN       4200.0      NaN\n"
          ]
        }
      ]
    },
    {
      "cell_type": "markdown",
      "source": [
        "# Formatação dos dados"
      ],
      "metadata": {
        "id": "j60D32wt_SCT"
      }
    },
    {
      "cell_type": "markdown",
      "source": [
        "# Padronização de Formatos de Data\n",
        "A padronização dos formatos de data é importante quando os dados possuem informações temporais. Vamos supor que o DataFrame de exemplo contenha uma coluna 'Data de Admissão' que precisa ser padronizada para o formato \"dd/mm/aaaa\". Para isso, utilizamos o método pd.to_datetime do Pandas para converter a coluna para o tipo 'datetime' e, em seguida, o método dt.strftime para formatá-la adequadamente.\n",
        "\n",
        "\n"
      ],
      "metadata": {
        "id": "Qai0_coC_lEI"
      }
    },
    {
      "cell_type": "code",
      "source": [
        "import pandas as pd\n",
        "\n",
        "# DataFrame de exemplo após a limpeza de dados\n",
        "df_limpo = pd.DataFrame({\n",
        "    'ID': [1, 2, 3],\n",
        "    'Nome': ['Ana', 'João', 'Maria'],\n",
        "    'Cargo': ['Analista', 'Gerente', 'Coordenador'],\n",
        "    'Data de Admissão': ['2022-01-15', '2023-03-10', '2021-12-05'],\n",
        "    'Salário': [3500, 5000, 4200]\n",
        "})\n",
        "\n",
        "# Convertendo a coluna 'Data de Admissão' para o formato \"dd/mm/aaaa\"\n",
        "df_limpo['Data de Admissão'] = pd.to_datetime(df_limpo['Data de Admissão'])\n",
        "df_limpo['Data de Admissão'] = df_limpo['Data de Admissão'].dt.strftime('%d/%m/%Y')\n",
        "\n",
        "# Exibindo o DataFrame após a padronização de formatos de data\n",
        "print(\"DataFrame após a padronização de formatos de data:\")\n",
        "print(df_limpo)\n"
      ],
      "metadata": {
        "colab": {
          "base_uri": "https://localhost:8080/"
        },
        "id": "32Dh4GlR_d9g",
        "outputId": "7ca88a37-f313-44e2-b82f-3361e5440b63"
      },
      "execution_count": 28,
      "outputs": [
        {
          "output_type": "stream",
          "name": "stdout",
          "text": [
            "DataFrame após a padronização de formatos de data:\n",
            "   ID   Nome        Cargo Data de Admissão  Salário\n",
            "0   1    Ana     Analista       15/01/2022     3500\n",
            "1   2   João      Gerente       10/03/2023     5000\n",
            "2   3  Maria  Coordenador       05/12/2021     4200\n"
          ]
        }
      ]
    },
    {
      "cell_type": "markdown",
      "source": [
        "# Conversão de Unidades de Medida\n",
        "Outra tarefa comum na formatação de dados é a conversão de unidades de medida. Suponha que o DataFrame contenha uma coluna 'Peso' com os valores em quilogramas, e desejamos convertê-la para libras. Para isso, podemos criar uma função que faça a conversão e aplicá-la à coluna.\n",
        "\n"
      ],
      "metadata": {
        "id": "C2LbXSdn_wKM"
      }
    },
    {
      "cell_type": "code",
      "source": [
        "def kg_to_lbs(peso_kg):\n",
        "    return peso_kg * 2.20462\n",
        "\n",
        "# DataFrame de exemplo após a limpeza de dados\n",
        "df_limpo['Peso (kg)'] = [65, 75, 60]\n",
        "\n",
        "# Convertendo a coluna 'Peso (kg)' para libras\n",
        "df_limpo['Peso (lbs)'] = df_limpo['Peso (kg)'].apply(kg_to_lbs)\n",
        "\n",
        "# Exibindo o DataFrame após a conversão de unidades de medida\n",
        "print(\"\\nDataFrame após a conversão de unidades de medida:\")\n",
        "print(df_limpo)"
      ],
      "metadata": {
        "colab": {
          "base_uri": "https://localhost:8080/"
        },
        "id": "jq-vadiI_d7V",
        "outputId": "9866a80f-41df-4ebb-8fe8-70b8cf95c2d2"
      },
      "execution_count": 30,
      "outputs": [
        {
          "output_type": "stream",
          "name": "stdout",
          "text": [
            "\n",
            "DataFrame após a conversão de unidades de medida:\n",
            "   ID   Nome        Cargo Data de Admissão  Salário  Peso (kg)  Peso (lbs)\n",
            "0   1    Ana     Analista       15/01/2022     3500         65    143.3003\n",
            "1   2   João      Gerente       10/03/2023     5000         75    165.3465\n",
            "2   3  Maria  Coordenador       05/12/2021     4200         60    132.2772\n"
          ]
        }
      ]
    },
    {
      "cell_type": "markdown",
      "source": [
        "# Garantindo Convenções de Nomenclatura\n",
        "\n",
        "A consistência nas convenções de nomenclatura facilita a compreensão dos dados. Vamos considerar que o DataFrame contenha uma coluna 'Departamento' com nomes em caixa alta e outra coluna 'Cidade' com nomes em caixa baixa. Para padronizar ambos os campos em letras iniciais maiúsculas, podemos utilizar o método str.title."
      ],
      "metadata": {
        "id": "_4f5RJPS_51_"
      }
    },
    {
      "cell_type": "code",
      "source": [
        "# DataFrame de exemplo após a limpeza de dados\n",
        "df_limpo['Departamento'] = ['RH', 'FINANÇAS', 'vendas']\n",
        "df_limpo['Cidade'] = ['são paulo', 'RIO DE JANEIRO', 'BELO HORIZONTE']\n",
        "\n",
        "# Padronizando as colunas 'Departamento' e 'Cidade' em letras iniciais maiúsculas\n",
        "df_limpo['Departamento'] = df_limpo['Departamento'].str.title()\n",
        "df_limpo['Cidade'] = df_limpo['Cidade'].str.title()\n",
        "\n",
        "# Exibindo o DataFrame após garantir as convenções de nomenclatura\n",
        "print(\"\\nDataFrame após garantir as convenções de nomenclatura:\")\n",
        "print(df_limpo)"
      ],
      "metadata": {
        "colab": {
          "base_uri": "https://localhost:8080/"
        },
        "id": "Msp44CR0_d23",
        "outputId": "d8b53cd6-b0d5-48ce-eecc-b051ce3adee1"
      },
      "execution_count": 31,
      "outputs": [
        {
          "output_type": "stream",
          "name": "stdout",
          "text": [
            "\n",
            "DataFrame após garantir as convenções de nomenclatura:\n",
            "   ID   Nome        Cargo Data de Admissão  Salário  Peso (kg)  Peso (lbs)  \\\n",
            "0   1    Ana     Analista       15/01/2022     3500         65    143.3003   \n",
            "1   2   João      Gerente       10/03/2023     5000         75    165.3465   \n",
            "2   3  Maria  Coordenador       05/12/2021     4200         60    132.2772   \n",
            "\n",
            "  Departamento          Cidade  \n",
            "0           Rh       São Paulo  \n",
            "1     Finanças  Rio De Janeiro  \n",
            "2       Vendas  Belo Horizonte  \n"
          ]
        }
      ]
    },
    {
      "cell_type": "code",
      "source": [
        "# Salvando o DataFrame Limpo em um arquivo CSV\n",
        "df_limpo.to_csv('dados_limpos.csv', index=False)"
      ],
      "metadata": {
        "id": "p1-zVMqR_dy4"
      },
      "execution_count": 33,
      "outputs": []
    },
    {
      "cell_type": "code",
      "source": [],
      "metadata": {
        "id": "ufyMq9c6_dvW"
      },
      "execution_count": null,
      "outputs": []
    },
    {
      "cell_type": "code",
      "source": [],
      "metadata": {
        "id": "gSfYOcS3_dsR"
      },
      "execution_count": null,
      "outputs": []
    },
    {
      "cell_type": "code",
      "source": [],
      "metadata": {
        "id": "9JQxnbDP_dp4"
      },
      "execution_count": null,
      "outputs": []
    },
    {
      "cell_type": "code",
      "source": [],
      "metadata": {
        "id": "DjXf2odw_dm2"
      },
      "execution_count": null,
      "outputs": []
    },
    {
      "cell_type": "code",
      "source": [],
      "metadata": {
        "id": "E09qepK0_dke"
      },
      "execution_count": null,
      "outputs": []
    },
    {
      "cell_type": "code",
      "source": [],
      "metadata": {
        "id": "AQd698Rf_diC"
      },
      "execution_count": null,
      "outputs": []
    },
    {
      "cell_type": "code",
      "source": [],
      "metadata": {
        "id": "Nk2Ah5oZ_dfg"
      },
      "execution_count": null,
      "outputs": []
    },
    {
      "cell_type": "code",
      "source": [],
      "metadata": {
        "id": "RRGJul3o_ddG"
      },
      "execution_count": null,
      "outputs": []
    },
    {
      "cell_type": "code",
      "source": [],
      "metadata": {
        "id": "KQ05Nbpm_dbA"
      },
      "execution_count": null,
      "outputs": []
    },
    {
      "cell_type": "code",
      "source": [],
      "metadata": {
        "id": "Dcr6FRAu_dX8"
      },
      "execution_count": null,
      "outputs": []
    },
    {
      "cell_type": "code",
      "source": [],
      "metadata": {
        "id": "-JvWUZAU_dVK"
      },
      "execution_count": null,
      "outputs": []
    },
    {
      "cell_type": "markdown",
      "source": [
        "# SCRIPT COMPLETO"
      ],
      "metadata": {
        "id": "rzgXpXAUr_Tm"
      }
    },
    {
      "cell_type": "code",
      "source": [
        "import pandas as pd\n",
        "import numpy as np\n",
        "from sklearn.preprocessing import StandardScaler, LabelEncoder, MinMaxScaler\n",
        "\n",
        "# Criando um DataFrame de exemplo\n",
        "dados = {\n",
        "    'ID': [1, 2, 3, 4, 5, 6, 7, 8],\n",
        "    'Nome': ['João', 'Maria', 'José', 'Ana', 'Pedro', 'Eva', 'Fernanda', 'Carlos'],\n",
        "    'Idade': [25, 30, None, 22, 28, 35, 27, 40],\n",
        "    'Salário': [3500, 4000, 2800, 3200, None, 4200, 3800, 5000],\n",
        "    'Cargo': ['Analista', 'Gerente', 'Analista', 'Estagiário', 'Gerente', None, 'Analista', 'Diretor']\n",
        "}\n",
        "\n",
        "df = pd.DataFrame(dados)\n",
        "print(df)\n",
        "\n",
        "# Lidando com valores ausentes\n",
        "df_limpo = df.dropna().reset_index(drop=True)  # Removendo as linhas com valores ausentes\n",
        "print(\"\\nDataFrame após remoção de linhas com valores ausentes:\")\n",
        "print(df_limpo)\n",
        "\n",
        "# Corrigindo erros ou imputando valores\n",
        "valor_medio_salario = df['Salário'].mean()\n",
        "df['Salário'].fillna(valor_medio_salario, inplace=True)  # Preenchendo valores ausentes com a média dos salários\n",
        "print(\"\\nDataFrame após imputação de valores ausentes no salário:\")\n",
        "print(df)\n",
        "\n",
        "# Removendo duplicatas\n",
        "df_sem_duplicatas = df.drop_duplicates().reset_index(drop=True)\n",
        "print(\"\\nDataFrame após remoção de duplicatas:\")\n",
        "print(df_sem_duplicatas)\n",
        "\n",
        "# Escalonamento de Variáveis Numéricas\n",
        "scaler = StandardScaler()\n",
        "df_limpo['Salário_Escalonado'] = scaler.fit_transform(df_limpo[['Salário']])\n",
        "print(\"\\nDataFrame com a coluna 'Salário' escalonada:\")\n",
        "print(df_limpo[['ID', 'Nome', 'Salário', 'Salário_Escalonado']])\n",
        "\n",
        "# Codificação de Variáveis Categóricas\n",
        "le = LabelEncoder()\n",
        "df_limpo['Cargo_Codificado'] = le.fit_transform(df_limpo['Cargo'])\n",
        "print(\"\\nDataFrame com a coluna 'Cargo' codificada:\")\n",
        "print(df_limpo[['ID', 'Nome', 'Cargo', 'Cargo_Codificado']])\n",
        "\n",
        "# Criação de Novas Variáveis\n",
        "df_limpo['Score'] = df_limpo['Salário'] / df_limpo['Idade']\n",
        "print(\"\\nDataFrame com a nova coluna 'Score':\")\n",
        "print(df_limpo[['ID', 'Nome', 'Salário', 'Idade', 'Score']])\n",
        "\n",
        "# Normalização de Variáveis\n",
        "scaler = MinMaxScaler()\n",
        "df_limpo['Idade_Normalizada'] = scaler.fit_transform(df_limpo[['Idade']])\n",
        "print(\"\\nDataFrame com a coluna 'Idade' normalizada:\")\n",
        "print(df_limpo[['ID', 'Nome', 'Idade', 'Idade_Normalizada']])\n",
        "\n",
        "# Transformação Logarítmica\n",
        "df_limpo['Salário_Log'] = np.log(df_limpo['Salário'])\n",
        "print(\"\\nDataFrame com a coluna 'Salário' transformada usando logaritmo:\")\n",
        "print(df_limpo[['ID', 'Nome', 'Salário', 'Salário_Log']])\n",
        "\n",
        "# Tratando Outliers\n",
        "limite_superior = df_limpo['Salário'].quantile(0.75) + 1.5 * (df_limpo['Salário'].quantile(0.75) - df_limpo['Salário'].quantile(0.25))\n",
        "df_limpo['Salário_Truncado'] = np.where(df_limpo['Salário'] > limite_superior, limite_superior, df_limpo['Salário'])\n",
        "print(\"\\nDataFrame com a coluna 'Salário' tratada para outliers:\")\n",
        "print(df_limpo[['ID', 'Nome', 'Salário', 'Salário_Truncado']])\n",
        "\n",
        "# Binning - Discretização de Variáveis Contínuas\n",
        "bins = [0, 2500, 3500, 4500, np.inf]\n",
        "labels = ['Baixo', 'Médio', 'Alto', 'Muito Alto']\n",
        "df_limpo['Categoria_Salário'] = pd.cut(df_limpo['Salário'], bins=bins, labels=labels)\n",
        "print(\"\\nDataFrame com a coluna 'Salário' discretizada em categorias:\")\n",
        "print(df_limpo[['ID', 'Nome', 'Salário', 'Categoria_Salário']])\n",
        "\n",
        "# One-Hot Encoding para Variáveis Categóricas\n",
        "df_onehot = pd.get_dummies(df_limpo, columns=['Cargo'])\n",
        "print(\"\\nDataFrame com as colunas de 'Cargo' codificadas com One-Hot Encoding:\")\n",
        "print(df_onehot)\n",
        "\n",
        "# Lidando com Valores Nulos novamente\n",
        "df_onehot['Idade'].fillna(df_onehot['Idade'].mean(), inplace=True)  # Preenchendo valores ausentes com a média das idades\n",
        "print(\"\\nDataFrame após imputação de valores ausentes na idade:\")\n",
        "print(df_onehot)\n",
        "\n",
        "# Verificando a Correlação entre as Variáveis\n",
        "correlacao = df_onehot.corr()\n",
        "print(\"\\nMatriz de correlação entre as variáveis:\")\n",
        "print(correlacao)\n",
        "\n",
        "\n"
      ],
      "metadata": {
        "id": "MNuWfEnaJXeN"
      },
      "execution_count": null,
      "outputs": []
    }
  ]
}