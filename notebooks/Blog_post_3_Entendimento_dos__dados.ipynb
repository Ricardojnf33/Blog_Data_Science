{
  "nbformat": 4,
  "nbformat_minor": 0,
  "metadata": {
    "colab": {
      "provenance": [],
      "authorship_tag": "ABX9TyNbUeSg+NBzU8Qd+pF2DLAX",
      "include_colab_link": true
    },
    "kernelspec": {
      "name": "python3",
      "display_name": "Python 3"
    },
    "language_info": {
      "name": "python"
    }
  },
  "cells": [
    {
      "cell_type": "markdown",
      "metadata": {
        "id": "view-in-github",
        "colab_type": "text"
      },
      "source": [
        "<a href=\"https://colab.research.google.com/github/Ricardojnf33/Blog_Data_Science/blob/main/Blog_post_3_Entendimento_dos__dados.ipynb\" target=\"_parent\"><img src=\"https://colab.research.google.com/assets/colab-badge.svg\" alt=\"Open In Colab\"/></a>"
      ]
    },
    {
      "cell_type": "code",
      "source": [
        "import pandas as pd\n",
        "\n",
        "# Criar o DataFrame\n",
        "data = {'Idade': [25, 30, 35, 28, 32],\n",
        "        'Gênero': ['M', 'F', 'M', 'F', 'M'],\n",
        "        'Região': ['A', 'B', 'C', 'A', 'B'],\n",
        "        'Valor Gasto': [100, 150, 200, 120, 180],\n",
        "        'Categoria': ['A', 'B', 'A', 'C', 'B']}\n",
        "\n",
        "df = pd.DataFrame(data)\n",
        "\n",
        "# Exibir o DataFrame\n",
        "print(df)"
      ],
      "metadata": {
        "colab": {
          "base_uri": "https://localhost:8080/"
        },
        "id": "8Pw0ZUgT6uTm",
        "outputId": "4e904f6b-3283-4c84-cfcf-36b31fac4f93"
      },
      "execution_count": 2,
      "outputs": [
        {
          "output_type": "stream",
          "name": "stdout",
          "text": [
            "   Idade Gênero Região  Valor Gasto Categoria\n",
            "0     25      M      A          100         A\n",
            "1     30      F      B          150         B\n",
            "2     35      M      C          200         A\n",
            "3     28      F      A          120         C\n",
            "4     32      M      B          180         B\n"
          ]
        }
      ]
    },
    {
      "cell_type": "markdown",
      "source": [
        "#Coleta Inicial de Dados: A Base para uma Análise Profunda"
      ],
      "metadata": {
        "id": "ZIZhclzC8j8J"
      }
    },
    {
      "cell_type": "code",
      "source": [
        "import pandas as pd\n",
        "\n",
        "\n",
        "# Visualizar as primeiras linhas dos dados\n",
        "print(df.head())"
      ],
      "metadata": {
        "colab": {
          "base_uri": "https://localhost:8080/"
        },
        "id": "5DFWm3bG7bE5",
        "outputId": "5359ba43-d308-49a5-ec4e-6f9f88a86284"
      },
      "execution_count": 9,
      "outputs": [
        {
          "output_type": "stream",
          "name": "stdout",
          "text": [
            "   Idade Gênero Região  Valor Gasto Categoria\n",
            "0     25      M      A          100         A\n",
            "1     30      F      B          150         B\n",
            "2     35      M      C          200         A\n",
            "3     28      F      A          120         C\n",
            "4     32      M      B          180         B\n"
          ]
        }
      ]
    },
    {
      "cell_type": "code",
      "source": [
        "# Obter informações sobre os dados\n",
        "print(df.info())"
      ],
      "metadata": {
        "colab": {
          "base_uri": "https://localhost:8080/"
        },
        "id": "kkDGpJCg7l0U",
        "outputId": "f4e5302d-2363-4a65-c76a-5d54e340e09c"
      },
      "execution_count": 10,
      "outputs": [
        {
          "output_type": "stream",
          "name": "stdout",
          "text": [
            "<class 'pandas.core.frame.DataFrame'>\n",
            "RangeIndex: 5 entries, 0 to 4\n",
            "Data columns (total 5 columns):\n",
            " #   Column       Non-Null Count  Dtype \n",
            "---  ------       --------------  ----- \n",
            " 0   Idade        5 non-null      int64 \n",
            " 1   Gênero       5 non-null      object\n",
            " 2   Região       5 non-null      object\n",
            " 3   Valor Gasto  5 non-null      int64 \n",
            " 4   Categoria    5 non-null      object\n",
            "dtypes: int64(2), object(3)\n",
            "memory usage: 328.0+ bytes\n",
            "None\n"
          ]
        }
      ]
    },
    {
      "cell_type": "markdown",
      "source": [
        "# Descrição dos Dados: Compreendendo a Estrutura e o Contexto"
      ],
      "metadata": {
        "id": "tSFOYZcD80r2"
      }
    },
    {
      "cell_type": "code",
      "source": [
        "# Obter informações sobre as variáveis e a estrutura dos dados\n",
        "print('Informações sobre as variáveis:')\n",
        "print(df.dtypes)\n",
        "print('\\n')"
      ],
      "metadata": {
        "colab": {
          "base_uri": "https://localhost:8080/"
        },
        "id": "W3-YE6W_8I7n",
        "outputId": "f612329f-995b-4907-a915-82b7364ff163"
      },
      "execution_count": 17,
      "outputs": [
        {
          "output_type": "stream",
          "name": "stdout",
          "text": [
            "Informações sobre as variáveis:\n",
            "Idade           int64\n",
            "Gênero         object\n",
            "Região         object\n",
            "Valor Gasto     int64\n",
            "Categoria      object\n",
            "dtype: object\n",
            "\n",
            "\n"
          ]
        }
      ]
    },
    {
      "cell_type": "code",
      "source": [
        "print('Resumo estatístico das variáveis numéricas:')\n",
        "print(df.describe())\n",
        "print('\\n')"
      ],
      "metadata": {
        "colab": {
          "base_uri": "https://localhost:8080/"
        },
        "id": "5QSoUHmc8I4V",
        "outputId": "2e43c273-2718-497f-b9ef-aff47b82a72c"
      },
      "execution_count": 18,
      "outputs": [
        {
          "output_type": "stream",
          "name": "stdout",
          "text": [
            "Resumo estatístico das variáveis numéricas:\n",
            "           Idade  Valor Gasto\n",
            "count   5.000000     5.000000\n",
            "mean   30.000000   150.000000\n",
            "std     3.807887    41.231056\n",
            "min    25.000000   100.000000\n",
            "25%    28.000000   120.000000\n",
            "50%    30.000000   150.000000\n",
            "75%    32.000000   180.000000\n",
            "max    35.000000   200.000000\n",
            "\n",
            "\n"
          ]
        }
      ]
    },
    {
      "cell_type": "code",
      "source": [
        "print('Contagem de valores únicos nas variáveis categóricas:')\n",
        "print(df['Categoria'].value_counts())\n",
        "print('\\n')"
      ],
      "metadata": {
        "colab": {
          "base_uri": "https://localhost:8080/"
        },
        "id": "l2OOy4Vd8I1X",
        "outputId": "c57cf12b-a07c-4383-907b-a797324b23e5"
      },
      "execution_count": 19,
      "outputs": [
        {
          "output_type": "stream",
          "name": "stdout",
          "text": [
            "Contagem de valores únicos nas variáveis categóricas:\n",
            "A    2\n",
            "B    2\n",
            "C    1\n",
            "Name: Categoria, dtype: int64\n",
            "\n",
            "\n"
          ]
        }
      ]
    },
    {
      "cell_type": "markdown",
      "source": [
        "#Exploração dos Dados: Descobrindo Padrões e Tendências\n"
      ],
      "metadata": {
        "id": "h1Eprswi8itD"
      }
    },
    {
      "cell_type": "code",
      "source": [
        "import seaborn as sns\n",
        "import matplotlib.pyplot as plt\n",
        "\n",
        "# Criar um gráfico de dispersão entre a idade e o valor gasto\n",
        "sns.scatterplot(x='Idade', y='Valor Gasto', data=df)\n",
        "\n",
        "# Adicionar uma linha de tendência\n",
        "sns.lineplot(x='Idade', y='Valor Gasto', data=df)\n",
        "\n",
        "# Adicionar rótulos aos eixos\n",
        "plt.xlabel('Idade')\n",
        "plt.ylabel('Valor Gasto')\n",
        "\n",
        "# Exibir o gráfico\n",
        "plt.show()"
      ],
      "metadata": {
        "colab": {
          "base_uri": "https://localhost:8080/",
          "height": 449
        },
        "id": "47Pt_Kv-9R9v",
        "outputId": "774090b3-3722-457a-e01f-f6c7bef41200"
      },
      "execution_count": 20,
      "outputs": [
        {
          "output_type": "display_data",
          "data": {
            "text/plain": [
              "<Figure size 640x480 with 1 Axes>"
            ],
            "image/png": "[encoded data removed]"
          },
          "metadata": {}
        }
      ]
    },
    {
      "cell_type": "code",
      "source": [
        "# Calcular a média, mediana e desvio padrão dos gastos\n",
        "media_gastos = df['Valor Gasto'].mean()\n",
        "mediana_gastos = df['Valor Gasto'].median()\n",
        "desvio_padrao_gastos = df['Valor Gasto'].std()\n",
        "\n",
        "# Imprimir as estatísticas descritivas dos gastos\n",
        "print('Estatísticas descritivas dos gastos:')\n",
        "print('- Média dos Gastos:', media_gastos)\n",
        "print('- Mediana dos Gastos:', mediana_gastos)\n",
        "print('- Desvio Padrão dos Gastos:', desvio_padrao_gastos)"
      ],
      "metadata": {
        "colab": {
          "base_uri": "https://localhost:8080/"
        },
        "id": "MyjdVW-h6yif",
        "outputId": "a2a6593d-7808-46f5-d40b-9a6a631a045b"
      },
      "execution_count": 13,
      "outputs": [
        {
          "output_type": "stream",
          "name": "stdout",
          "text": [
            "Estatísticas descritivas dos gastos:\n",
            "- Média dos Gastos: 150.0\n",
            "- Mediana dos Gastos: 150.0\n",
            "- Desvio Padrão dos Gastos: 41.23105625617661\n"
          ]
        }
      ]
    }
  ]
}